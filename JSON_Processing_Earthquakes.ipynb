{
 "cells": [
  {
   "cell_type": "markdown",
   "metadata": {},
   "source": [
    "* 1.) Use a loop or recursion to print out only the Magnitudes \n",
    "* 2.) Select and Print the observation with the highest magnitude and its associated location \n",
    "* 3.) Make a histogram of the frequencies of earthquakes in each city. Did any have more than one?"
   ]
  },
  {
   "cell_type": "code",
   "execution_count": 1,
   "metadata": {
    "scrolled": true
   },
   "outputs": [
    {
     "name": "stdout",
     "output_type": "stream",
     "text": [
      "<class 'dict'>\n"
     ]
    },
    {
     "data": {
      "text/plain": [
       "dict_keys(['type', 'metadata', 'features', 'bbox'])"
      ]
     },
     "execution_count": 1,
     "metadata": {},
     "output_type": "execute_result"
    }
   ],
   "source": [
    "import json\n",
    "f = open('all_hour.geojson')\n",
    "data = json.load(f)\n",
    "print(type(data))\n",
    "data.keys()\n"
   ]
  },
  {
   "cell_type": "code",
   "execution_count": 2,
   "metadata": {},
   "outputs": [
    {
     "data": {
      "text/plain": [
       "{'type': 'FeatureCollection',\n",
       " 'metadata': {'generated': 1570553658000,\n",
       "  'url': 'https://earthquake.usgs.gov/earthquakes/feed/v1.0/summary/all_hour.geojson',\n",
       "  'title': 'USGS All Earthquakes, Past Hour',\n",
       "  'status': 200,\n",
       "  'api': '1.8.1',\n",
       "  'count': 14},\n",
       " 'features': [{'type': 'Feature',\n",
       "   'properties': {'mag': 0.59,\n",
       "    'place': '10km WNW of The Geysers, CA',\n",
       "    'time': 1570553385240,\n",
       "    'updated': 1570553480214,\n",
       "    'tz': -480,\n",
       "    'url': 'https://earthquake.usgs.gov/earthquakes/eventpage/nc73288815',\n",
       "    'detail': 'https://earthquake.usgs.gov/earthquakes/feed/v1.0/detail/nc73288815.geojson',\n",
       "    'felt': None,\n",
       "    'cdi': None,\n",
       "    'mmi': None,\n",
       "    'alert': None,\n",
       "    'status': 'automatic',\n",
       "    'tsunami': 0,\n",
       "    'sig': 5,\n",
       "    'net': 'nc',\n",
       "    'code': '73288815',\n",
       "    'ids': ',nc73288815,',\n",
       "    'sources': ',nc,',\n",
       "    'types': ',geoserve,nearby-cities,origin,phase-data,',\n",
       "    'nst': 15,\n",
       "    'dmin': 0.002426,\n",
       "    'rms': 0.02,\n",
       "    'gap': 67,\n",
       "    'magType': 'md',\n",
       "    'type': 'earthquake',\n",
       "    'title': 'M 0.6 - 10km WNW of The Geysers, CA'},\n",
       "   'geometry': {'type': 'Point',\n",
       "    'coordinates': [-122.8574982, 38.8251648, 2.39]},\n",
       "   'id': 'nc73288815'},\n",
       "  {'type': 'Feature',\n",
       "   'properties': {'mag': 1.3,\n",
       "    'place': '17km SSW of Big Lake, Alaska',\n",
       "    'time': 1570553311729,\n",
       "    'updated': 1570553540426,\n",
       "    'tz': -540,\n",
       "    'url': 'https://earthquake.usgs.gov/earthquakes/eventpage/ak019cwztt9g',\n",
       "    'detail': 'https://earthquake.usgs.gov/earthquakes/feed/v1.0/detail/ak019cwztt9g.geojson',\n",
       "    'felt': None,\n",
       "    'cdi': None,\n",
       "    'mmi': None,\n",
       "    'alert': None,\n",
       "    'status': 'automatic',\n",
       "    'tsunami': 0,\n",
       "    'sig': 26,\n",
       "    'net': 'ak',\n",
       "    'code': '019cwztt9g',\n",
       "    'ids': ',ak019cwztt9g,',\n",
       "    'sources': ',ak,',\n",
       "    'types': ',geoserve,origin,',\n",
       "    'nst': None,\n",
       "    'dmin': None,\n",
       "    'rms': 0.52,\n",
       "    'gap': None,\n",
       "    'magType': 'ml',\n",
       "    'type': 'earthquake',\n",
       "    'title': 'M 1.3 - 17km SSW of Big Lake, Alaska'},\n",
       "   'geometry': {'type': 'Point', 'coordinates': [-150.0748, 61.378, 33.8]},\n",
       "   'id': 'ak019cwztt9g'},\n",
       "  {'type': 'Feature',\n",
       "   'properties': {'mag': 1.4,\n",
       "    'place': '76km E of Cape Yakataga, Alaska',\n",
       "    'time': 1570553257787,\n",
       "    'updated': 1570553439702,\n",
       "    'tz': -540,\n",
       "    'url': 'https://earthquake.usgs.gov/earthquakes/eventpage/ak019cwztm0i',\n",
       "    'detail': 'https://earthquake.usgs.gov/earthquakes/feed/v1.0/detail/ak019cwztm0i.geojson',\n",
       "    'felt': None,\n",
       "    'cdi': None,\n",
       "    'mmi': None,\n",
       "    'alert': None,\n",
       "    'status': 'automatic',\n",
       "    'tsunami': 0,\n",
       "    'sig': 30,\n",
       "    'net': 'ak',\n",
       "    'code': '019cwztm0i',\n",
       "    'ids': ',ak019cwztm0i,',\n",
       "    'sources': ',ak,',\n",
       "    'types': ',geoserve,origin,',\n",
       "    'nst': None,\n",
       "    'dmin': None,\n",
       "    'rms': 0.65,\n",
       "    'gap': None,\n",
       "    'magType': 'ml',\n",
       "    'type': 'earthquake',\n",
       "    'title': 'M 1.4 - 76km E of Cape Yakataga, Alaska'},\n",
       "   'geometry': {'type': 'Point', 'coordinates': [-141.0749, 60.1831, 10.1]},\n",
       "   'id': 'ak019cwztm0i'},\n",
       "  {'type': 'Feature',\n",
       "   'properties': {'mag': 1.79,\n",
       "    'place': '10km WNW of The Geysers, CA',\n",
       "    'time': 1570553185000,\n",
       "    'updated': 1570553583151,\n",
       "    'tz': -480,\n",
       "    'url': 'https://earthquake.usgs.gov/earthquakes/eventpage/nc73288810',\n",
       "    'detail': 'https://earthquake.usgs.gov/earthquakes/feed/v1.0/detail/nc73288810.geojson',\n",
       "    'felt': None,\n",
       "    'cdi': None,\n",
       "    'mmi': None,\n",
       "    'alert': None,\n",
       "    'status': 'automatic',\n",
       "    'tsunami': 0,\n",
       "    'sig': 49,\n",
       "    'net': 'nc',\n",
       "    'code': '73288810',\n",
       "    'ids': ',nc73288810,',\n",
       "    'sources': ',nc,',\n",
       "    'types': ',focal-mechanism,geoserve,nearby-cities,origin,phase-data,scitech-link,',\n",
       "    'nst': 32,\n",
       "    'dmin': None,\n",
       "    'rms': 0.04,\n",
       "    'gap': 67,\n",
       "    'magType': 'md',\n",
       "    'type': 'earthquake',\n",
       "    'title': 'M 1.8 - 10km WNW of The Geysers, CA'},\n",
       "   'geometry': {'type': 'Point',\n",
       "    'coordinates': [-122.8570023, 38.824501, 2.24]},\n",
       "   'id': 'nc73288810'},\n",
       "  {'type': 'Feature',\n",
       "   'properties': {'mag': 1.92,\n",
       "    'place': '22km N of Barstow, CA',\n",
       "    'time': 1570553093020,\n",
       "    'updated': 1570553317862,\n",
       "    'tz': -480,\n",
       "    'url': 'https://earthquake.usgs.gov/earthquakes/eventpage/ci39119680',\n",
       "    'detail': 'https://earthquake.usgs.gov/earthquakes/feed/v1.0/detail/ci39119680.geojson',\n",
       "    'felt': None,\n",
       "    'cdi': None,\n",
       "    'mmi': None,\n",
       "    'alert': None,\n",
       "    'status': 'automatic',\n",
       "    'tsunami': 0,\n",
       "    'sig': 57,\n",
       "    'net': 'ci',\n",
       "    'code': '39119680',\n",
       "    'ids': ',ci39119680,',\n",
       "    'sources': ',ci,',\n",
       "    'types': ',geoserve,nearby-cities,origin,phase-data,scitech-link,',\n",
       "    'nst': 23,\n",
       "    'dmin': 0.2193,\n",
       "    'rms': 0.18,\n",
       "    'gap': 62,\n",
       "    'magType': 'ml',\n",
       "    'type': 'earthquake',\n",
       "    'title': 'M 1.9 - 22km N of Barstow, CA'},\n",
       "   'geometry': {'type': 'Point', 'coordinates': [-116.9763333, 35.0945, 2.44]},\n",
       "   'id': 'ci39119680'},\n",
       "  {'type': 'Feature',\n",
       "   'properties': {'mag': 0.85,\n",
       "    'place': '3km NNE of Fontana, CA',\n",
       "    'time': 1570552854920,\n",
       "    'updated': 1570553076285,\n",
       "    'tz': -480,\n",
       "    'url': 'https://earthquake.usgs.gov/earthquakes/eventpage/ci39119664',\n",
       "    'detail': 'https://earthquake.usgs.gov/earthquakes/feed/v1.0/detail/ci39119664.geojson',\n",
       "    'felt': None,\n",
       "    'cdi': None,\n",
       "    'mmi': None,\n",
       "    'alert': None,\n",
       "    'status': 'automatic',\n",
       "    'tsunami': 0,\n",
       "    'sig': 11,\n",
       "    'net': 'ci',\n",
       "    'code': '39119664',\n",
       "    'ids': ',ci39119664,',\n",
       "    'sources': ',ci,',\n",
       "    'types': ',geoserve,nearby-cities,origin,phase-data,scitech-link,',\n",
       "    'nst': 19,\n",
       "    'dmin': 0.09232,\n",
       "    'rms': 0.19,\n",
       "    'gap': 56,\n",
       "    'magType': 'ml',\n",
       "    'type': 'earthquake',\n",
       "    'title': 'M 0.9 - 3km NNE of Fontana, CA'},\n",
       "   'geometry': {'type': 'Point', 'coordinates': [-117.4501667, 34.1235, 4.03]},\n",
       "   'id': 'ci39119664'},\n",
       "  {'type': 'Feature',\n",
       "   'properties': {'mag': 0.15,\n",
       "    'place': '2km NE of The Geysers, CA',\n",
       "    'time': 1570552788250,\n",
       "    'updated': 1570553163105,\n",
       "    'tz': -480,\n",
       "    'url': 'https://earthquake.usgs.gov/earthquakes/eventpage/nc73288805',\n",
       "    'detail': 'https://earthquake.usgs.gov/earthquakes/feed/v1.0/detail/nc73288805.geojson',\n",
       "    'felt': None,\n",
       "    'cdi': None,\n",
       "    'mmi': None,\n",
       "    'alert': None,\n",
       "    'status': 'automatic',\n",
       "    'tsunami': 0,\n",
       "    'sig': 0,\n",
       "    'net': 'nc',\n",
       "    'code': '73288805',\n",
       "    'ids': ',nc73288805,',\n",
       "    'sources': ',nc,',\n",
       "    'types': ',geoserve,nearby-cities,origin,phase-data,scitech-link,',\n",
       "    'nst': 6,\n",
       "    'dmin': 0.007868,\n",
       "    'rms': 0.02,\n",
       "    'gap': 130,\n",
       "    'magType': 'md',\n",
       "    'type': 'earthquake',\n",
       "    'title': 'M 0.2 - 2km NE of The Geysers, CA'},\n",
       "   'geometry': {'type': 'Point',\n",
       "    'coordinates': [-122.7350006, 38.7910004, 1.58]},\n",
       "   'id': 'nc73288805'},\n",
       "  {'type': 'Feature',\n",
       "   'properties': {'mag': 0.47,\n",
       "    'place': '17km E of Little Lake, CA',\n",
       "    'time': 1570552117200,\n",
       "    'updated': 1570552343227,\n",
       "    'tz': -480,\n",
       "    'url': 'https://earthquake.usgs.gov/earthquakes/eventpage/ci39119624',\n",
       "    'detail': 'https://earthquake.usgs.gov/earthquakes/feed/v1.0/detail/ci39119624.geojson',\n",
       "    'felt': None,\n",
       "    'cdi': None,\n",
       "    'mmi': None,\n",
       "    'alert': None,\n",
       "    'status': 'automatic',\n",
       "    'tsunami': 0,\n",
       "    'sig': 3,\n",
       "    'net': 'ci',\n",
       "    'code': '39119624',\n",
       "    'ids': ',ci39119624,',\n",
       "    'sources': ',ci,',\n",
       "    'types': ',geoserve,nearby-cities,origin,phase-data,scitech-link,',\n",
       "    'nst': 10,\n",
       "    'dmin': 0.05748,\n",
       "    'rms': 0.16,\n",
       "    'gap': 96,\n",
       "    'magType': 'ml',\n",
       "    'type': 'earthquake',\n",
       "    'title': 'M 0.5 - 17km E of Little Lake, CA'},\n",
       "   'geometry': {'type': 'Point', 'coordinates': [-117.7175, 35.9663333, 2.43]},\n",
       "   'id': 'ci39119624'},\n",
       "  {'type': 'Feature',\n",
       "   'properties': {'mag': 1.9,\n",
       "    'place': '17km SW of Valdez, Alaska',\n",
       "    'time': 1570551796184,\n",
       "    'updated': 1570552616520,\n",
       "    'tz': -540,\n",
       "    'url': 'https://earthquake.usgs.gov/earthquakes/eventpage/ak019cwzof5n',\n",
       "    'detail': 'https://earthquake.usgs.gov/earthquakes/feed/v1.0/detail/ak019cwzof5n.geojson',\n",
       "    'felt': None,\n",
       "    'cdi': None,\n",
       "    'mmi': None,\n",
       "    'alert': None,\n",
       "    'status': 'automatic',\n",
       "    'tsunami': 0,\n",
       "    'sig': 56,\n",
       "    'net': 'ak',\n",
       "    'code': '019cwzof5n',\n",
       "    'ids': ',ak019cwzof5n,',\n",
       "    'sources': ',ak,',\n",
       "    'types': ',geoserve,origin,',\n",
       "    'nst': None,\n",
       "    'dmin': None,\n",
       "    'rms': 0.68,\n",
       "    'gap': None,\n",
       "    'magType': 'ml',\n",
       "    'type': 'earthquake',\n",
       "    'title': 'M 1.9 - 17km SW of Valdez, Alaska'},\n",
       "   'geometry': {'type': 'Point', 'coordinates': [-146.5677, 61.0117, 7.7]},\n",
       "   'id': 'ak019cwzof5n'},\n",
       "  {'type': 'Feature',\n",
       "   'properties': {'mag': 1.51,\n",
       "    'place': '16km NE of Brooktrails, CA',\n",
       "    'time': 1570551708560,\n",
       "    'updated': 1570552081994,\n",
       "    'tz': -480,\n",
       "    'url': 'https://earthquake.usgs.gov/earthquakes/eventpage/nc73288790',\n",
       "    'detail': 'https://earthquake.usgs.gov/earthquakes/feed/v1.0/detail/nc73288790.geojson',\n",
       "    'felt': None,\n",
       "    'cdi': None,\n",
       "    'mmi': None,\n",
       "    'alert': None,\n",
       "    'status': 'automatic',\n",
       "    'tsunami': 0,\n",
       "    'sig': 35,\n",
       "    'net': 'nc',\n",
       "    'code': '73288790',\n",
       "    'ids': ',nc73288790,',\n",
       "    'sources': ',nc,',\n",
       "    'types': ',geoserve,nearby-cities,origin,phase-data,scitech-link,',\n",
       "    'nst': 11,\n",
       "    'dmin': 0.1019,\n",
       "    'rms': 0.07,\n",
       "    'gap': 128,\n",
       "    'magType': 'md',\n",
       "    'type': 'earthquake',\n",
       "    'title': 'M 1.5 - 16km NE of Brooktrails, CA'},\n",
       "   'geometry': {'type': 'Point',\n",
       "    'coordinates': [-123.2383347, 39.5361671, 6.89]},\n",
       "   'id': 'nc73288790'},\n",
       "  {'type': 'Feature',\n",
       "   'properties': {'mag': 2,\n",
       "    'place': '55km ESE of Bear Creek, Alaska',\n",
       "    'time': 1570551188966,\n",
       "    'updated': 1570551933146,\n",
       "    'tz': -540,\n",
       "    'url': 'https://earthquake.usgs.gov/earthquakes/eventpage/ak019cwzm3z0',\n",
       "    'detail': 'https://earthquake.usgs.gov/earthquakes/feed/v1.0/detail/ak019cwzm3z0.geojson',\n",
       "    'felt': None,\n",
       "    'cdi': None,\n",
       "    'mmi': None,\n",
       "    'alert': None,\n",
       "    'status': 'automatic',\n",
       "    'tsunami': 0,\n",
       "    'sig': 62,\n",
       "    'net': 'ak',\n",
       "    'code': '019cwzm3z0',\n",
       "    'ids': ',ak019cwzm3z0,',\n",
       "    'sources': ',ak,',\n",
       "    'types': ',geoserve,origin,',\n",
       "    'nst': None,\n",
       "    'dmin': None,\n",
       "    'rms': 0.56,\n",
       "    'gap': None,\n",
       "    'magType': 'ml',\n",
       "    'type': 'earthquake',\n",
       "    'title': 'M 2.0 - 55km ESE of Bear Creek, Alaska'},\n",
       "   'geometry': {'type': 'Point', 'coordinates': [-148.4194, 60.0587, 4.9]},\n",
       "   'id': 'ak019cwzm3z0'},\n",
       "  {'type': 'Feature',\n",
       "   'properties': {'mag': 1.6,\n",
       "    'place': '70km WSW of Cantwell, Alaska',\n",
       "    'time': 1570551159555,\n",
       "    'updated': 1570551471125,\n",
       "    'tz': -540,\n",
       "    'url': 'https://earthquake.usgs.gov/earthquakes/eventpage/ak019cwzm415',\n",
       "    'detail': 'https://earthquake.usgs.gov/earthquakes/feed/v1.0/detail/ak019cwzm415.geojson',\n",
       "    'felt': None,\n",
       "    'cdi': None,\n",
       "    'mmi': None,\n",
       "    'alert': None,\n",
       "    'status': 'automatic',\n",
       "    'tsunami': 0,\n",
       "    'sig': 39,\n",
       "    'net': 'ak',\n",
       "    'code': '019cwzm415',\n",
       "    'ids': ',ak019cwzm415,',\n",
       "    'sources': ',ak,',\n",
       "    'types': ',geoserve,origin,',\n",
       "    'nst': None,\n",
       "    'dmin': None,\n",
       "    'rms': 0.83,\n",
       "    'gap': None,\n",
       "    'magType': 'ml',\n",
       "    'type': 'earthquake',\n",
       "    'title': 'M 1.6 - 70km WSW of Cantwell, Alaska'},\n",
       "   'geometry': {'type': 'Point', 'coordinates': [-150.2594, 63.1661, 51]},\n",
       "   'id': 'ak019cwzm415'},\n",
       "  {'type': 'Feature',\n",
       "   'properties': {'mag': 2.1,\n",
       "    'place': '60km WSW of Talkeetna, Alaska',\n",
       "    'time': 1570551145132,\n",
       "    'updated': 1570551369618,\n",
       "    'tz': -540,\n",
       "    'url': 'https://earthquake.usgs.gov/earthquakes/eventpage/ak019cwzm2z1',\n",
       "    'detail': 'https://earthquake.usgs.gov/earthquakes/feed/v1.0/detail/ak019cwzm2z1.geojson',\n",
       "    'felt': None,\n",
       "    'cdi': None,\n",
       "    'mmi': None,\n",
       "    'alert': None,\n",
       "    'status': 'automatic',\n",
       "    'tsunami': 0,\n",
       "    'sig': 68,\n",
       "    'net': 'ak',\n",
       "    'code': '019cwzm2z1',\n",
       "    'ids': ',ak019cwzm2z1,',\n",
       "    'sources': ',ak,',\n",
       "    'types': ',geoserve,origin,',\n",
       "    'nst': None,\n",
       "    'dmin': None,\n",
       "    'rms': 1.09,\n",
       "    'gap': None,\n",
       "    'magType': 'ml',\n",
       "    'type': 'earthquake',\n",
       "    'title': 'M 2.1 - 60km WSW of Talkeetna, Alaska'},\n",
       "   'geometry': {'type': 'Point', 'coordinates': [-151.1405, 62.0821, 34.4]},\n",
       "   'id': 'ak019cwzm2z1'},\n",
       "  {'type': 'Feature',\n",
       "   'properties': {'mag': 1.7,\n",
       "    'place': '77km NNW of Arctic Village, Alaska',\n",
       "    'time': 1570550315419,\n",
       "    'updated': 1570550546243,\n",
       "    'tz': -540,\n",
       "    'url': 'https://earthquake.usgs.gov/earthquakes/eventpage/ak019cwzaj29',\n",
       "    'detail': 'https://earthquake.usgs.gov/earthquakes/feed/v1.0/detail/ak019cwzaj29.geojson',\n",
       "    'felt': None,\n",
       "    'cdi': None,\n",
       "    'mmi': None,\n",
       "    'alert': None,\n",
       "    'status': 'automatic',\n",
       "    'tsunami': 0,\n",
       "    'sig': 44,\n",
       "    'net': 'ak',\n",
       "    'code': '019cwzaj29',\n",
       "    'ids': ',ak019cwzaj29,',\n",
       "    'sources': ',ak,',\n",
       "    'types': ',geoserve,origin,',\n",
       "    'nst': None,\n",
       "    'dmin': None,\n",
       "    'rms': 1.04,\n",
       "    'gap': None,\n",
       "    'magType': 'ml',\n",
       "    'type': 'earthquake',\n",
       "    'title': 'M 1.7 - 77km NNW of Arctic Village, Alaska'},\n",
       "   'geometry': {'type': 'Point', 'coordinates': [-146.22, 68.7761, 0]},\n",
       "   'id': 'ak019cwzaj29'}],\n",
       " 'bbox': [-151.1405, 34.1235, 0, -116.9763333, 68.7761, 51]}"
      ]
     },
     "execution_count": 2,
     "metadata": {},
     "output_type": "execute_result"
    }
   ],
   "source": [
    "data"
   ]
  },
  {
   "cell_type": "code",
   "execution_count": 3,
   "metadata": {},
   "outputs": [
    {
     "data": {
      "text/plain": [
       "'FeatureCollection'"
      ]
     },
     "execution_count": 3,
     "metadata": {},
     "output_type": "execute_result"
    }
   ],
   "source": [
    "data['type']"
   ]
  },
  {
   "cell_type": "code",
   "execution_count": 4,
   "metadata": {},
   "outputs": [
    {
     "data": {
      "text/plain": [
       "{'generated': 1570553658000,\n",
       " 'url': 'https://earthquake.usgs.gov/earthquakes/feed/v1.0/summary/all_hour.geojson',\n",
       " 'title': 'USGS All Earthquakes, Past Hour',\n",
       " 'status': 200,\n",
       " 'api': '1.8.1',\n",
       " 'count': 14}"
      ]
     },
     "execution_count": 4,
     "metadata": {},
     "output_type": "execute_result"
    }
   ],
   "source": [
    "data['metadata']"
   ]
  },
  {
   "cell_type": "code",
   "execution_count": 5,
   "metadata": {},
   "outputs": [],
   "source": [
    "l = len(data['features'])"
   ]
  },
  {
   "cell_type": "code",
   "execution_count": 6,
   "metadata": {},
   "outputs": [
    {
     "name": "stdout",
     "output_type": "stream",
     "text": [
      "13 [0.59, 1.3, 1.4, 1.79, 1.92, 0.85, 0.15, 0.47, 1.9, 1.51, 2, 1.6, 2.1, 1.7]\n"
     ]
    }
   ],
   "source": [
    "magnitudes = []\n",
    "\n",
    "for i in range(0,l):\n",
    "    magnitudes.append(data['features'][i]['properties']['mag'])\n",
    "print(i, magnitudes) "
   ]
  },
  {
   "cell_type": "code",
   "execution_count": 7,
   "metadata": {},
   "outputs": [
    {
     "data": {
      "text/plain": [
       "2.1"
      ]
     },
     "execution_count": 7,
     "metadata": {},
     "output_type": "execute_result"
    }
   ],
   "source": [
    "max(magnitudes)"
   ]
  },
  {
   "cell_type": "code",
   "execution_count": 8,
   "metadata": {
    "scrolled": true
   },
   "outputs": [
    {
     "data": {
      "text/plain": [
       "2.1"
      ]
     },
     "execution_count": 8,
     "metadata": {},
     "output_type": "execute_result"
    }
   ],
   "source": [
    "magnitudes[-2]"
   ]
  },
  {
   "cell_type": "code",
   "execution_count": 9,
   "metadata": {},
   "outputs": [
    {
     "data": {
      "text/plain": [
       "'60km WSW of Talkeetna, Alaska'"
      ]
     },
     "execution_count": 9,
     "metadata": {},
     "output_type": "execute_result"
    }
   ],
   "source": [
    "data['features'][-2]['properties']['place']"
   ]
  },
  {
   "cell_type": "code",
   "execution_count": 10,
   "metadata": {},
   "outputs": [
    {
     "data": {
      "text/plain": [
       "[-151.1405, 34.1235, 0, -116.9763333, 68.7761, 51]"
      ]
     },
     "execution_count": 10,
     "metadata": {},
     "output_type": "execute_result"
    }
   ],
   "source": [
    "data['bbox']"
   ]
  },
  {
   "cell_type": "code",
   "execution_count": 11,
   "metadata": {},
   "outputs": [],
   "source": [
    "# Make a histogram of the frequencies of earthquakes in each city. Did any have more than one?\n",
    "earthquakes = {}\n",
    "\n",
    "for i in range(0,l):\n",
    "    loc = data['features'][i]['properties']['place']\n",
    "    mag = data['features'][i]['properties']['mag']\n",
    "    freq = {i: [mag,loc]}\n",
    "    earthquakes.update(freq)\n",
    "\n",
    "locations = {'meta': earthquakes}\n"
   ]
  },
  {
   "cell_type": "code",
   "execution_count": 12,
   "metadata": {},
   "outputs": [
    {
     "data": {
      "text/html": [
       "<div>\n",
       "<style scoped>\n",
       "    .dataframe tbody tr th:only-of-type {\n",
       "        vertical-align: middle;\n",
       "    }\n",
       "\n",
       "    .dataframe tbody tr th {\n",
       "        vertical-align: top;\n",
       "    }\n",
       "\n",
       "    .dataframe thead th {\n",
       "        text-align: right;\n",
       "    }\n",
       "</style>\n",
       "<table border=\"1\" class=\"dataframe\">\n",
       "  <thead>\n",
       "    <tr style=\"text-align: right;\">\n",
       "      <th></th>\n",
       "      <th>mag</th>\n",
       "      <th>location</th>\n",
       "    </tr>\n",
       "  </thead>\n",
       "  <tbody>\n",
       "    <tr>\n",
       "      <th>0</th>\n",
       "      <td>0.59</td>\n",
       "      <td>10km WNW of The Geysers, CA</td>\n",
       "    </tr>\n",
       "    <tr>\n",
       "      <th>1</th>\n",
       "      <td>1.30</td>\n",
       "      <td>17km SSW of Big Lake, Alaska</td>\n",
       "    </tr>\n",
       "    <tr>\n",
       "      <th>2</th>\n",
       "      <td>1.40</td>\n",
       "      <td>76km E of Cape Yakataga, Alaska</td>\n",
       "    </tr>\n",
       "    <tr>\n",
       "      <th>3</th>\n",
       "      <td>1.79</td>\n",
       "      <td>10km WNW of The Geysers, CA</td>\n",
       "    </tr>\n",
       "    <tr>\n",
       "      <th>4</th>\n",
       "      <td>1.92</td>\n",
       "      <td>22km N of Barstow, CA</td>\n",
       "    </tr>\n",
       "    <tr>\n",
       "      <th>5</th>\n",
       "      <td>0.85</td>\n",
       "      <td>3km NNE of Fontana, CA</td>\n",
       "    </tr>\n",
       "    <tr>\n",
       "      <th>6</th>\n",
       "      <td>0.15</td>\n",
       "      <td>2km NE of The Geysers, CA</td>\n",
       "    </tr>\n",
       "    <tr>\n",
       "      <th>7</th>\n",
       "      <td>0.47</td>\n",
       "      <td>17km E of Little Lake, CA</td>\n",
       "    </tr>\n",
       "    <tr>\n",
       "      <th>8</th>\n",
       "      <td>1.90</td>\n",
       "      <td>17km SW of Valdez, Alaska</td>\n",
       "    </tr>\n",
       "    <tr>\n",
       "      <th>9</th>\n",
       "      <td>1.51</td>\n",
       "      <td>16km NE of Brooktrails, CA</td>\n",
       "    </tr>\n",
       "    <tr>\n",
       "      <th>10</th>\n",
       "      <td>2.00</td>\n",
       "      <td>55km ESE of Bear Creek, Alaska</td>\n",
       "    </tr>\n",
       "    <tr>\n",
       "      <th>11</th>\n",
       "      <td>1.60</td>\n",
       "      <td>70km WSW of Cantwell, Alaska</td>\n",
       "    </tr>\n",
       "    <tr>\n",
       "      <th>12</th>\n",
       "      <td>2.10</td>\n",
       "      <td>60km WSW of Talkeetna, Alaska</td>\n",
       "    </tr>\n",
       "    <tr>\n",
       "      <th>13</th>\n",
       "      <td>1.70</td>\n",
       "      <td>77km NNW of Arctic Village, Alaska</td>\n",
       "    </tr>\n",
       "  </tbody>\n",
       "</table>\n",
       "</div>"
      ],
      "text/plain": [
       "     mag                            location\n",
       "0   0.59         10km WNW of The Geysers, CA\n",
       "1   1.30        17km SSW of Big Lake, Alaska\n",
       "2   1.40     76km E of Cape Yakataga, Alaska\n",
       "3   1.79         10km WNW of The Geysers, CA\n",
       "4   1.92               22km N of Barstow, CA\n",
       "5   0.85              3km NNE of Fontana, CA\n",
       "6   0.15           2km NE of The Geysers, CA\n",
       "7   0.47           17km E of Little Lake, CA\n",
       "8   1.90           17km SW of Valdez, Alaska\n",
       "9   1.51          16km NE of Brooktrails, CA\n",
       "10  2.00      55km ESE of Bear Creek, Alaska\n",
       "11  1.60        70km WSW of Cantwell, Alaska\n",
       "12  2.10       60km WSW of Talkeetna, Alaska\n",
       "13  1.70  77km NNW of Arctic Village, Alaska"
      ]
     },
     "execution_count": 12,
     "metadata": {},
     "output_type": "execute_result"
    }
   ],
   "source": [
    "import pandas as pd\n",
    "df = pd.DataFrame.from_dict(locations['meta'], orient='index', columns = ['mag','location'])\n",
    "df"
   ]
  },
  {
   "cell_type": "code",
   "execution_count": 13,
   "metadata": {},
   "outputs": [
    {
     "data": {
      "text/plain": [
       "13"
      ]
     },
     "metadata": {},
     "output_type": "display_data"
    },
    {
     "data": {
      "text/plain": [
       "14"
      ]
     },
     "metadata": {},
     "output_type": "display_data"
    }
   ],
   "source": [
    "import matplotlib.pyplot as plt\n",
    "%matplotlib inline\n",
    "import numpy as np\n",
    "display(df['location'].nunique())\n",
    "display(len(df))"
   ]
  },
  {
   "cell_type": "code",
   "execution_count": 14,
   "metadata": {},
   "outputs": [
    {
     "data": {
      "text/html": [
       "<div>\n",
       "<style scoped>\n",
       "    .dataframe tbody tr th:only-of-type {\n",
       "        vertical-align: middle;\n",
       "    }\n",
       "\n",
       "    .dataframe tbody tr th {\n",
       "        vertical-align: top;\n",
       "    }\n",
       "\n",
       "    .dataframe thead th {\n",
       "        text-align: right;\n",
       "    }\n",
       "</style>\n",
       "<table border=\"1\" class=\"dataframe\">\n",
       "  <thead>\n",
       "    <tr style=\"text-align: right;\">\n",
       "      <th></th>\n",
       "      <th>mag</th>\n",
       "      <th>location</th>\n",
       "    </tr>\n",
       "  </thead>\n",
       "  <tbody>\n",
       "    <tr>\n",
       "      <th>0</th>\n",
       "      <td>0.59</td>\n",
       "      <td>10km WNW of The Geysers, CA</td>\n",
       "    </tr>\n",
       "    <tr>\n",
       "      <th>3</th>\n",
       "      <td>1.79</td>\n",
       "      <td>10km WNW of The Geysers, CA</td>\n",
       "    </tr>\n",
       "  </tbody>\n",
       "</table>\n",
       "</div>"
      ],
      "text/plain": [
       "    mag                     location\n",
       "0  0.59  10km WNW of The Geysers, CA\n",
       "3  1.79  10km WNW of The Geysers, CA"
      ]
     },
     "execution_count": 14,
     "metadata": {},
     "output_type": "execute_result"
    }
   ],
   "source": [
    "df[df['location'].duplicated(keep=False)]"
   ]
  },
  {
   "cell_type": "code",
   "execution_count": 15,
   "metadata": {},
   "outputs": [
    {
     "data": {
      "image/png": "[encoded data removed]",
      "text/plain": [
       "<Figure size 1152x648 with 1 Axes>"
      ]
     },
     "metadata": {
      "needs_background": "light"
     },
     "output_type": "display_data"
    }
   ],
   "source": [
    "df['location'].hist(figsize= (16,9));"
   ]
  },
  {
   "cell_type": "code",
   "execution_count": 16,
   "metadata": {},
   "outputs": [
    {
     "data": {
      "text/plain": [
       "{'state': ['CA',\n",
       "  'ka',\n",
       "  'ka',\n",
       "  'CA',\n",
       "  'CA',\n",
       "  'CA',\n",
       "  'CA',\n",
       "  'CA',\n",
       "  'ka',\n",
       "  'CA',\n",
       "  'ka',\n",
       "  'ka',\n",
       "  'ka',\n",
       "  'ka']}"
      ]
     },
     "execution_count": 16,
     "metadata": {},
     "output_type": "execute_result"
    }
   ],
   "source": [
    "states = []\n",
    "for i in range(len(df)):\n",
    "    states.append(df['location'][i][-2:])\n",
    "state = {'state':states}\n",
    "state"
   ]
  },
  {
   "cell_type": "code",
   "execution_count": 17,
   "metadata": {},
   "outputs": [],
   "source": [
    "df2 = pd.DataFrame.from_dict(state)"
   ]
  },
  {
   "cell_type": "code",
   "execution_count": 18,
   "metadata": {},
   "outputs": [],
   "source": [
    "df3 = df.join(df2)"
   ]
  },
  {
   "cell_type": "code",
   "execution_count": 19,
   "metadata": {},
   "outputs": [
    {
     "data": {
      "text/html": [
       "<div>\n",
       "<style scoped>\n",
       "    .dataframe tbody tr th:only-of-type {\n",
       "        vertical-align: middle;\n",
       "    }\n",
       "\n",
       "    .dataframe tbody tr th {\n",
       "        vertical-align: top;\n",
       "    }\n",
       "\n",
       "    .dataframe thead th {\n",
       "        text-align: right;\n",
       "    }\n",
       "</style>\n",
       "<table border=\"1\" class=\"dataframe\">\n",
       "  <thead>\n",
       "    <tr style=\"text-align: right;\">\n",
       "      <th></th>\n",
       "      <th>mag</th>\n",
       "      <th>location</th>\n",
       "      <th>state</th>\n",
       "    </tr>\n",
       "  </thead>\n",
       "  <tbody>\n",
       "    <tr>\n",
       "      <th>0</th>\n",
       "      <td>0.59</td>\n",
       "      <td>10km WNW of The Geysers, CA</td>\n",
       "      <td>CA</td>\n",
       "    </tr>\n",
       "    <tr>\n",
       "      <th>1</th>\n",
       "      <td>1.30</td>\n",
       "      <td>17km SSW of Big Lake, Alaska</td>\n",
       "      <td>ka</td>\n",
       "    </tr>\n",
       "    <tr>\n",
       "      <th>2</th>\n",
       "      <td>1.40</td>\n",
       "      <td>76km E of Cape Yakataga, Alaska</td>\n",
       "      <td>ka</td>\n",
       "    </tr>\n",
       "    <tr>\n",
       "      <th>3</th>\n",
       "      <td>1.79</td>\n",
       "      <td>10km WNW of The Geysers, CA</td>\n",
       "      <td>CA</td>\n",
       "    </tr>\n",
       "    <tr>\n",
       "      <th>4</th>\n",
       "      <td>1.92</td>\n",
       "      <td>22km N of Barstow, CA</td>\n",
       "      <td>CA</td>\n",
       "    </tr>\n",
       "    <tr>\n",
       "      <th>5</th>\n",
       "      <td>0.85</td>\n",
       "      <td>3km NNE of Fontana, CA</td>\n",
       "      <td>CA</td>\n",
       "    </tr>\n",
       "    <tr>\n",
       "      <th>6</th>\n",
       "      <td>0.15</td>\n",
       "      <td>2km NE of The Geysers, CA</td>\n",
       "      <td>CA</td>\n",
       "    </tr>\n",
       "    <tr>\n",
       "      <th>7</th>\n",
       "      <td>0.47</td>\n",
       "      <td>17km E of Little Lake, CA</td>\n",
       "      <td>CA</td>\n",
       "    </tr>\n",
       "    <tr>\n",
       "      <th>8</th>\n",
       "      <td>1.90</td>\n",
       "      <td>17km SW of Valdez, Alaska</td>\n",
       "      <td>ka</td>\n",
       "    </tr>\n",
       "    <tr>\n",
       "      <th>9</th>\n",
       "      <td>1.51</td>\n",
       "      <td>16km NE of Brooktrails, CA</td>\n",
       "      <td>CA</td>\n",
       "    </tr>\n",
       "    <tr>\n",
       "      <th>10</th>\n",
       "      <td>2.00</td>\n",
       "      <td>55km ESE of Bear Creek, Alaska</td>\n",
       "      <td>ka</td>\n",
       "    </tr>\n",
       "    <tr>\n",
       "      <th>11</th>\n",
       "      <td>1.60</td>\n",
       "      <td>70km WSW of Cantwell, Alaska</td>\n",
       "      <td>ka</td>\n",
       "    </tr>\n",
       "    <tr>\n",
       "      <th>12</th>\n",
       "      <td>2.10</td>\n",
       "      <td>60km WSW of Talkeetna, Alaska</td>\n",
       "      <td>ka</td>\n",
       "    </tr>\n",
       "    <tr>\n",
       "      <th>13</th>\n",
       "      <td>1.70</td>\n",
       "      <td>77km NNW of Arctic Village, Alaska</td>\n",
       "      <td>ka</td>\n",
       "    </tr>\n",
       "  </tbody>\n",
       "</table>\n",
       "</div>"
      ],
      "text/plain": [
       "     mag                            location state\n",
       "0   0.59         10km WNW of The Geysers, CA    CA\n",
       "1   1.30        17km SSW of Big Lake, Alaska    ka\n",
       "2   1.40     76km E of Cape Yakataga, Alaska    ka\n",
       "3   1.79         10km WNW of The Geysers, CA    CA\n",
       "4   1.92               22km N of Barstow, CA    CA\n",
       "5   0.85              3km NNE of Fontana, CA    CA\n",
       "6   0.15           2km NE of The Geysers, CA    CA\n",
       "7   0.47           17km E of Little Lake, CA    CA\n",
       "8   1.90           17km SW of Valdez, Alaska    ka\n",
       "9   1.51          16km NE of Brooktrails, CA    CA\n",
       "10  2.00      55km ESE of Bear Creek, Alaska    ka\n",
       "11  1.60        70km WSW of Cantwell, Alaska    ka\n",
       "12  2.10       60km WSW of Talkeetna, Alaska    ka\n",
       "13  1.70  77km NNW of Arctic Village, Alaska    ka"
      ]
     },
     "execution_count": 19,
     "metadata": {},
     "output_type": "execute_result"
    }
   ],
   "source": [
    "df3"
   ]
  },
  {
   "cell_type": "code",
   "execution_count": 20,
   "metadata": {},
   "outputs": [
    {
     "data": {
      "text/html": [
       "<div>\n",
       "<style scoped>\n",
       "    .dataframe tbody tr th:only-of-type {\n",
       "        vertical-align: middle;\n",
       "    }\n",
       "\n",
       "    .dataframe tbody tr th {\n",
       "        vertical-align: top;\n",
       "    }\n",
       "\n",
       "    .dataframe thead th {\n",
       "        text-align: right;\n",
       "    }\n",
       "</style>\n",
       "<table border=\"1\" class=\"dataframe\">\n",
       "  <thead>\n",
       "    <tr style=\"text-align: right;\">\n",
       "      <th></th>\n",
       "      <th>mag</th>\n",
       "      <th>location</th>\n",
       "    </tr>\n",
       "    <tr>\n",
       "      <th>state</th>\n",
       "      <th></th>\n",
       "      <th></th>\n",
       "    </tr>\n",
       "  </thead>\n",
       "  <tbody>\n",
       "    <tr>\n",
       "      <th>CA</th>\n",
       "      <td>7</td>\n",
       "      <td>7</td>\n",
       "    </tr>\n",
       "    <tr>\n",
       "      <th>ka</th>\n",
       "      <td>7</td>\n",
       "      <td>7</td>\n",
       "    </tr>\n",
       "  </tbody>\n",
       "</table>\n",
       "</div>"
      ],
      "text/plain": [
       "       mag  location\n",
       "state               \n",
       "CA       7         7\n",
       "ka       7         7"
      ]
     },
     "execution_count": 20,
     "metadata": {},
     "output_type": "execute_result"
    }
   ],
   "source": [
    "df3 = df3.groupby(by='state').count()\n",
    "df3"
   ]
  },
  {
   "cell_type": "code",
   "execution_count": 21,
   "metadata": {},
   "outputs": [
    {
     "data": {
      "text/html": [
       "<div>\n",
       "<style scoped>\n",
       "    .dataframe tbody tr th:only-of-type {\n",
       "        vertical-align: middle;\n",
       "    }\n",
       "\n",
       "    .dataframe tbody tr th {\n",
       "        vertical-align: top;\n",
       "    }\n",
       "\n",
       "    .dataframe thead th {\n",
       "        text-align: right;\n",
       "    }\n",
       "</style>\n",
       "<table border=\"1\" class=\"dataframe\">\n",
       "  <thead>\n",
       "    <tr style=\"text-align: right;\">\n",
       "      <th></th>\n",
       "      <th>state</th>\n",
       "      <th>mag</th>\n",
       "      <th>location</th>\n",
       "    </tr>\n",
       "  </thead>\n",
       "  <tbody>\n",
       "    <tr>\n",
       "      <th>0</th>\n",
       "      <td>CA</td>\n",
       "      <td>7</td>\n",
       "      <td>7</td>\n",
       "    </tr>\n",
       "    <tr>\n",
       "      <th>1</th>\n",
       "      <td>ka</td>\n",
       "      <td>7</td>\n",
       "      <td>7</td>\n",
       "    </tr>\n",
       "  </tbody>\n",
       "</table>\n",
       "</div>"
      ],
      "text/plain": [
       "  state  mag  location\n",
       "0    CA    7         7\n",
       "1    ka    7         7"
      ]
     },
     "execution_count": 21,
     "metadata": {},
     "output_type": "execute_result"
    }
   ],
   "source": [
    "df3.reset_index()"
   ]
  },
  {
   "cell_type": "code",
   "execution_count": 22,
   "metadata": {},
   "outputs": [],
   "source": [
    "df3.drop('mag',axis=1,inplace=True)"
   ]
  },
  {
   "cell_type": "code",
   "execution_count": 23,
   "metadata": {},
   "outputs": [
    {
     "data": {
      "image/png": "[encoded data removed]",
      "text/plain": [
       "<Figure size 1152x648 with 2 Axes>"
      ]
     },
     "metadata": {
      "needs_background": "light"
     },
     "output_type": "display_data"
    }
   ],
   "source": [
    "df3.hist(figsize=(16,9), by ='state');"
   ]
  }
 ],
 "metadata": {
  "kernelspec": {
   "display_name": "Python 3",
   "language": "python",
   "name": "python3"
  },
  "language_info": {
   "codemirror_mode": {
    "name": "ipython",
    "version": 3
   },
   "file_extension": ".py",
   "mimetype": "text/x-python",
   "name": "python",
   "nbconvert_exporter": "python",
   "pygments_lexer": "ipython3",
   "version": "3.7.3"
  }
 },
 "nbformat": 4,
 "nbformat_minor": 2
}
